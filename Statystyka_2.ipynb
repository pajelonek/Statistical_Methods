{
 "cells": [
  {
   "cell_type": "markdown",
   "metadata": {
    "collapsed": true,
    "pycharm": {
     "name": "#%% md\n"
    }
   },
   "source": [
    "# Metody statystyczne zestaw 2\n",
    "## Autor Paweł Jelonek"
   ]
  },
  {
   "cell_type": "markdown",
   "metadata": {},
   "source": [
    "### Symulacja procesu Markova\n",
    " - $2$ użytkowników\n",
    " - $1$ komputer\n",
    "\n",
    "#### Do komputera zalogowanych może być:\n",
    " - $x = 0$(użytkowników)\n",
    " - $x = 1$(użytkowników)\n",
    " - $x = 2$(użytkowników)\n",
    "\n",
    "Prawdopodonbieństwo logowania $Plogowania = 0.2$<br>\n",
    "Prawdopodonbieństwo pozostania niezalogowanym $1 - Plogowania = 0.8$<br>\n",
    "Prawdopodonbieństwo wylogowania $Pwylogowania = 0.5$<br>\n",
    "Prawdopodonbieństwo pozostania zalogowanym $1-Pwylogowania = 0.5$<br>\n",
    "\n",
    "\n",
    "\n",
    "Macierz Przejść $= \\left[\\begin{array}{ccc}\n",
    "0.64 & 0.32 & 0.4\\\\\n",
    "0.4 & 0.5 & 0.1\\\\\n",
    "0.25 & 0.5 & 0.25\\\\\n",
    "\\end{array}\\right]$"
   ]
  },
  {
   "cell_type": "code",
   "execution_count": 53,
   "metadata": {
    "pycharm": {
     "is_executing": false,
     "name": "#%%\n"
    }
   },
   "outputs": [],
   "source": [
    "from numpy import subtract, random, arange, matrix, subtract, abs\n",
    "from numpy.linalg import matrix_power, det, solve\n",
    "from matplotlib import pyplot as plt"
   ]
  },
  {
   "cell_type": "markdown",
   "metadata": {
    "pycharm": {
     "name": "#%% md\n"
    }
   },
   "source": [
    "### Problem A\n",
    "### Policzyć $[P]^N$ dla dużych $N$"
   ]
  },
  {
   "cell_type": "code",
   "execution_count": 86,
   "outputs": [],
   "source": [
    "P = [[0.64, 0.32, 0.04],\n",
    "            [0.40, 0.50, 0.10],\n",
    "            [0.25, 0.50, 0.25]]"
   ],
   "metadata": {
    "collapsed": false,
    "pycharm": {
     "name": "#%%\n",
     "is_executing": false
    }
   }
  },
  {
   "cell_type": "code",
   "execution_count": null,
   "outputs": [],
   "source": [
    "T = matrix([[0.5, 0, 0.5],\n",
    "            [0, 0.25, 0.75],\n",
    "            [0.5, 0.5, 0]])"
   ],
   "metadata": {
    "collapsed": false,
    "pycharm": {
     "name": "#%%\n"
    }
   }
  },
  {
   "cell_type": "code",
   "execution_count": 66,
   "outputs": [
    {
     "name": "stdout",
     "text": [
      "[[0.51020408 0.40816327 0.08163265]\n",
      " [0.51020408 0.40816327 0.08163265]\n",
      " [0.51020408 0.40816327 0.08163265]]\n"
     ],
     "output_type": "stream"
    }
   ],
   "source": [
    "power = 100\n",
    "print(matrix_power(P, power))"
   ],
   "metadata": {
    "collapsed": false,
    "pycharm": {
     "name": "#%%\n",
     "is_executing": false
    }
   }
  },
  {
   "cell_type": "markdown",
   "source": [
    "### Kryterium zbieżności $|P^N - P^{N-1}| < 10^{-5}$"
   ],
   "metadata": {
    "collapsed": false,
    "pycharm": {
     "name": "#%% md\n"
    }
   }
  },
  {
   "cell_type": "code",
   "execution_count": 89,
   "outputs": [],
   "source": [
    "def convergence_of_P(N, P):\n",
    "    y= []\n",
    "    for n in range(2, N):\n",
    "        prev_P = matrix_power(P, n-1)\n",
    "        current_p = matrix_power(P, n)\n",
    "        y.append(subtract(current_p, prev_P))\n",
    "    return y"
   ],
   "metadata": {
    "collapsed": false,
    "pycharm": {
     "name": "#%%\n",
     "is_executing": false
    }
   }
  },
  {
   "cell_type": "code",
   "execution_count": 90,
   "outputs": [
    {
     "name": "stdout",
     "text": [
      "[matrix([[ 0.    ,  0.25  , -0.25  ],\n",
      "        [ 0.375 ,  0.1875, -0.5625],\n",
      "        [-0.25  , -0.375 ,  0.625 ]])]\n"
     ],
     "output_type": "stream"
    }
   ],
   "source": [
    "print(convergence_of_P(3, T))"
   ],
   "metadata": {
    "collapsed": false,
    "pycharm": {
     "name": "#%%\n",
     "is_executing": false
    }
   }
  },
  {
   "cell_type": "markdown",
   "source": [
    "### Można narysować wykres gdzie:\n",
    "### $y = [P^n]ij$\n",
    "### $x = n$"
   ],
   "metadata": {
    "collapsed": false,
    "pycharm": {
     "name": "#%% md\n"
    }
   }
  },
  {
   "cell_type": "code",
   "execution_count": null,
   "outputs": [],
   "source": [
    "def markov_chain(N, T):\n",
    "    y = []\n",
    "    for n in range(1, N):\n",
    "        tn = matrix_power(T, n)\n",
    "        y.append(tn[1, 1])\n",
    "    return y"
   ],
   "metadata": {
    "collapsed": false,
    "pycharm": {
     "name": "#%%\n"
    }
   }
  },
  {
   "cell_type": "code",
   "execution_count": 92,
   "outputs": [
    {
     "data": {
      "text/plain": "<Figure size 1440x720 with 1 Axes>",
      "image/png": "[encoded data removed]"
     },
     "metadata": {
      "needs_background": "light"
     },
     "output_type": "display_data"
    }
   ],
   "source": [
    "N = 50\n",
    "y = markov_chain(N, P)\n",
    "\n",
    "plt.grid()\n",
    "plt.title(\"y = [P^N]ij\")\n",
    "plt.xlabel('n')\n",
    "plt.ylabel('[P^N]ij')\n",
    "plt.rcParams[\"figure.figsize\"]=(20, 10)\n",
    "_ = plt.plot(range(1, N), y)"
   ],
   "metadata": {
    "collapsed": false,
    "pycharm": {
     "name": "#%%\n",
     "is_executing": false
    }
   }
  },
  {
   "cell_type": "markdown",
   "metadata": {
    "pycharm": {
     "name": "#%% md\n"
    }
   },
   "source": [
    "### Problem B\n",
    "\n",
    "### Start z wybranego węzła $x=0,1,2$\n",
    "### Losowanie kolejnego węzła zgodnie z $P$\n",
    "### Przejście do nowego węzła\n",
    "\n",
    "### Losowanie dla $~N=10^4$\n",
    "### Policzenie $\\pi^{exp}_{i} = N^{i}/N, N^{i}$ - ile razy odwiedzone $x = (0,1,2)$\n",
    "### Porównanie z $[P]^{N}$, start z $x=(0,1,2)$, zbieżność"
   ]
  }
 ],
 "metadata": {
  "kernelspec": {
   "display_name": "Python 3",
   "language": "python",
   "name": "python3"
  },
  "language_info": {
   "codemirror_mode": {
    "name": "ipython",
    "version": 3
   },
   "file_extension": ".py",
   "mimetype": "text/x-python",
   "name": "python",
   "nbconvert_exporter": "python",
   "pygments_lexer": "ipython3",
   "version": "3.6.9"
  },
  "pycharm": {
   "stem_cell": {
    "cell_type": "raw",
    "source": [],
    "metadata": {
     "collapsed": false
    }
   }
  }
 },
 "nbformat": 4,
 "nbformat_minor": 1
}