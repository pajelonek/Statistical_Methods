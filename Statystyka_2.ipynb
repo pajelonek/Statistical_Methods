{
 "cells": [
  {
   "cell_type": "markdown",
   "metadata": {
    "collapsed": true,
    "pycharm": {
     "name": "#%% md\n"
    }
   },
   "source": [
    "# Metody statystyczne zestaw 2\n",
    "## Autor Paweł Jelonek"
   ]
  },
  {
   "cell_type": "markdown",
   "metadata": {},
   "source": [
    "### Symulacja procesu Markova\n",
    " - $2$ użytkowników\n",
    " - $1$ komputer\n",
    "\n",
    "#### Do komputera zalogowanych może być:\n",
    " - $x = 0$(użytkowników)\n",
    " - $x = 1$(użytkowników)\n",
    " - $x = 2$(użytkowników)\n",
    "\n",
    "Prawdopodonbieństwo logowania $Plogowania = 0.2$<br>\n",
    "Prawdopodonbieństwo pozostania niezalogowanym $1 - Plogowania = 0.8$<br>\n",
    "Prawdopodonbieństwo wylogowania $Pwylogowania = 0.5$<br>\n",
    "Prawdopodonbieństwo pozostania zalogowanym $1-Pwylogowania = 0.5$<br>\n",
    "\n",
    "\n",
    "\n",
    "Macierz Przejść $= \\left[\\begin{array}{ccc}\n",
    "0.64 & 0.32 & 0.4\\\\\n",
    "0.4 & 0.5 & 0.1\\\\\n",
    "0.25 & 0.5 & 0.25\\\\\n",
    "\\end{array}\\right]$"
   ]
  },
  {
   "cell_type": "code",
   "execution_count": 53,
   "metadata": {
    "pycharm": {
     "is_executing": false,
     "name": "#%%\n"
    }
   },
   "outputs": [],
   "source": [
    "from numpy import subtract, random, arange, matrix, subtract, abs\n",
    "from numpy.linalg import matrix_power, det, solve\n",
    "from matplotlib import pyplot as plt"
   ]
  },
  {
   "cell_type": "markdown",
   "metadata": {
    "pycharm": {
     "name": "#%% md\n"
    }
   },
   "source": [
    "### Problem A\n",
    "### Policzyć $[P]^N$ dla dużych $N$"
   ]
  },
  {
   "cell_type": "code",
   "execution_count": 86,
   "outputs": [],
   "source": [
    "P = [[0.64, 0.32, 0.04],\n",
    "            [0.40, 0.50, 0.10],\n",
    "            [0.25, 0.50, 0.25]]"
   ],
   "metadata": {
    "collapsed": false,
    "pycharm": {
     "name": "#%%\n",
     "is_executing": false
    }
   }
  },
  {
   "cell_type": "code",
   "execution_count": null,
   "outputs": [],
   "source": [
    "T = matrix([[0.5, 0, 0.5],\n",
    "            [0, 0.25, 0.75],\n",
    "            [0.5, 0.5, 0]])"
   ],
   "metadata": {
    "collapsed": false,
    "pycharm": {
     "name": "#%%\n"
    }
   }
  },
  {
   "cell_type": "code",
   "execution_count": 66,
   "outputs": [
    {
     "name": "stdout",
     "text": [
      "[[0.51020408 0.40816327 0.08163265]\n",
      " [0.51020408 0.40816327 0.08163265]\n",
      " [0.51020408 0.40816327 0.08163265]]\n"
     ],
     "output_type": "stream"
    }
   ],
   "source": [
    "power = 100\n",
    "print(matrix_power(P, power))"
   ],
   "metadata": {
    "collapsed": false,
    "pycharm": {
     "name": "#%%\n",
     "is_executing": false
    }
   }
  },
  {
   "cell_type": "markdown",
   "source": [
    "### Kryterium zbieżności $|P^N - P^{N-1}| < 10^{-5}$"
   ],
   "metadata": {
    "collapsed": false,
    "pycharm": {
     "name": "#%% md\n"
    }
   }
  },
  {
   "cell_type": "code",
   "execution_count": 89,
   "outputs": [],
   "source": [
    "def convergence_of_P(N, P):\n",
    "    y= []\n",
    "    for n in range(2, N):\n",
    "        prev_P = matrix_power(P, n-1)\n",
    "        current_p = matrix_power(P, n)\n",
    "        y.append(subtract(current_p, prev_P))\n",
    "    return y"
   ],
   "metadata": {
    "collapsed": false,
    "pycharm": {
     "name": "#%%\n",
     "is_executing": false
    }
   }
  },
  {
   "cell_type": "code",
   "execution_count": 90,
   "outputs": [
    {
     "name": "stdout",
     "text": [
      "[matrix([[ 0.    ,  0.25  , -0.25  ],\n",
      "        [ 0.375 ,  0.1875, -0.5625],\n",
      "        [-0.25  , -0.375 ,  0.625 ]])]\n"
     ],
     "output_type": "stream"
    }
   ],
   "source": [
    "print(convergence_of_P(3, T))"
   ],
   "metadata": {
    "collapsed": false,
    "pycharm": {
     "name": "#%%\n",
     "is_executing": false
    }
   }
  },
  {
   "cell_type": "markdown",
   "source": [
    "### Można narysować wykres gdzie:\n",
    "### $y = [P^n]ij$\n",
    "### $x = n$"
   ],
   "metadata": {
    "collapsed": false,
    "pycharm": {
     "name": "#%% md\n"
    }
   }
  },
  {
   "cell_type": "code",
   "execution_count": null,
   "outputs": [],
   "source": [
    "def markov_chain(N, T):\n",
    "    y = []\n",
    "    for n in range(1, N):\n",
    "        tn = matrix_power(T, n)\n",
    "        y.append(tn[1, 1])\n",
    "    return y"
   ],
   "metadata": {
    "collapsed": false,
    "pycharm": {
     "name": "#%%\n"
    }
   }
  },
  {
   "cell_type": "code",
   "execution_count": null,
   "outputs": [],
   "source": [
    "N = 50\n",
    "y = markov_chain(N, P)\n",
    "\n",
    "plt.grid()\n",
    "plt.title(\"y = [P^N]ij\")\n",
    "plt.xlabel('n')\n",
    "plt.ylabel('[P^N]ij')\n",
    "plt.rcParams[\"figure.figsize\"]=(20, 10)\n",
    "plt.plot(range(1, N), y)"
   ],
   "metadata": {
    "collapsed": false,
    "pycharm": {
     "name": "#%%\n"
    }
   }
  },
  {
   "cell_type": "markdown",
   "metadata": {
    "pycharm": {
     "name": "#%% md\n"
    }
   },
   "source": [
    "### Problem B\n",
    "\n",
    "### Start z wybranego węzła $x=0,1,2$\n",
    "### Losowanie kolejnego węzła zgodnie z $P$\n",
    "### Przejście do nowego węzła\n",
    "\n",
    "### Losowanie dla $~N=10^4$\n",
    "### Policzenie $\\pi^{exp}_{i} = N^{i}/N, N^{i}$ - ile razy odwiedzone $x = (0,1,2)$\n",
    "### Porównanie z $[P]^{N}$, start z $x=(0,1,2)$, zbieżność"
   ]
  },
  {
   "cell_type": "code",
   "execution_count": 22,
   "metadata": {
    "pycharm": {
     "is_executing": false,
     "name": "#%%\n"
    }
   },
   "outputs": [
    {
     "name": "stdout",
     "output_type": "stream",
     "text": [
      "[[0.4955045  0.42557443 0.07892108]]\n",
      "[[0.59072581 0.36693548 0.04233871]\n",
      " [0.42117647 0.48470588 0.09411765]\n",
      " [0.29113924 0.48101266 0.2278481 ]]\n"
     ]
    },
    {
     "data": {
      "image/png": "[encoded data removed]",
      "text/plain": [
       "<Figure size 432x288 with 1 Axes>"
      ]
     },
     "metadata": {
      "needs_background": "light"
     },
     "output_type": "display_data"
    }
   ],
   "source": [
    "import numpy as np\n",
    "import pandas as pd\n",
    "from random import seed\n",
    "from random import random\n",
    "import matplotlib.pyplot as plt\n",
    "stateChangeHist= np.array([[0.0,  0.0,  0.0],\n",
    "\n",
    "                            [0.0, 0.0,  0.0],\n",
    "\n",
    "                            [0.0, 0.0,  0.0]])\n",
    "\n",
    "state=np.array([[1.0, 0.0, 0.0]])\n",
    "currentState=0\n",
    "stateHist=state\n",
    "dfStateHist=pd.DataFrame(state)\n",
    "\n",
    "\n",
    "distr_hist = [[0,0,0]]\n",
    "\n",
    "\n",
    "\n",
    "# Simulate from multinomial distribution\n",
    "\n",
    "def simulate_multinomial(vmultinomial):\n",
    "\n",
    "    r=np.random.uniform(0.0, 1.0)\n",
    "\n",
    "    CS=np.cumsum(vmultinomial)\n",
    "\n",
    "    CS=np.insert(CS,0,0)\n",
    "\n",
    "    m=(np.where(CS<r))[0]\n",
    "\n",
    "    nextState=m[len(m)-1]\n",
    "\n",
    "    return nextState\n",
    "\n",
    "\n",
    "\n",
    "\n",
    "for x in range(1000):\n",
    "    currentRow=np.ma.masked_values((P[currentState]), 0.0)\n",
    "    nextState=simulate_multinomial(currentRow)\n",
    "    # Keep track of state changes\n",
    "    stateChangeHist[currentState,nextState]+=1\n",
    "    # Keep track of the state vector itself\n",
    "    state=np.array([[0,0,0]])\n",
    "    state[0,nextState]=1.0\n",
    "    # Keep track of state history\n",
    "    stateHist=np.append(stateHist,state,axis=0)\n",
    "    currentState=nextState\n",
    "    # calculate the actual distribution over the 3 states so far\n",
    "    totals=np.sum(stateHist,axis=0)\n",
    "    gt=np.sum(totals)\n",
    "    distrib=totals/gt\n",
    "    distrib=np.reshape(distrib,(1,3))\n",
    "    distr_hist=np.append(distr_hist,distrib,axis=0)\n",
    "    \n",
    "print(distrib)\n",
    "\n",
    "P_hat=stateChangeHist/stateChangeHist.sum(axis=1)[:,None]\n",
    "# Check estimated state transition probabilities based on history so far:\n",
    "print(P_hat)\n",
    "\n",
    "dfDistrHist = pd.DataFrame(distr_hist)\n",
    "# Plot the distribution as the simulation progresses over time\n",
    "# dfDistrHist.plot(title=\"Simulation History\")\n",
    "plt.show()"
   ]
  }
 ],
 "metadata": {
  "kernelspec": {
   "display_name": "Python 3",
   "language": "python",
   "name": "python3"
  },
  "language_info": {
   "codemirror_mode": {
    "name": "ipython",
    "version": 3
   },
   "file_extension": ".py",
   "mimetype": "text/x-python",
   "name": "python",
   "nbconvert_exporter": "python",
   "pygments_lexer": "ipython3",
   "version": "3.6.9"
  },
  "pycharm": {
   "stem_cell": {
    "cell_type": "raw",
    "source": [],
    "metadata": {
     "collapsed": false
    }
   }
  }
 },
 "nbformat": 4,
 "nbformat_minor": 1
}