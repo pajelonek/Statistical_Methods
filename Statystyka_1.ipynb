{
 "cells": [
  {
   "cell_type": "markdown",
   "source": [
    "# Statystyka zestaw 1"
   ],
   "metadata": {
    "collapsed": false,
    "pycharm": {
     "name": "#%% md\n"
    }
   }
  },
  {
   "cell_type": "markdown",
   "source": [
    "## Problem A1\n",
    "\n",
    "### a) Implementacja generatoru liczb losowych z rozkladu normalnego N(µ,σ2) metoda Polarna:\n",
    "### µ = 0 - wartosc oczekiwania; \n",
    "### σ2 = 1 - wariacja; \n"
   ],
   "metadata": {
    "collapsed": false
   }
  },
  {
   "cell_type": "code",
   "source": [
    "from numpy import random, sqrt, log, sin, cos, pi\n",
    "\n",
    "def problem_A1(n = 1):\n",
    "    x1 = random.rand(n)\n",
    "    x2 = random.rand(n)\n",
    "    \n",
    "    r = sqrt(-2 * log(x1))\n",
    "    y1 = r*cos(2 * pi * x2)\n",
    "    y2 = r*sin(2 * pi * x2)\n",
    "    \n",
    "    return y1, y2\n",
    "\n",
    "problem_A1()"
   ],
   "metadata": {
    "collapsed": false,
    "pycharm": {
     "name": "#%%\n",
     "is_executing": false
    }
   },
   "execution_count": 68,
   "outputs": [
    {
     "data": {
      "text/plain": "(array([-0.52923554]), array([-0.33900895]))"
     },
     "metadata": {},
     "output_type": "execute_result",
     "execution_count": 68
    }
   ]
  },
  {
   "cell_type": "markdown",
   "source": [
    "## b) Narysowanie histogramu i porównianie ze wzorem analitycznym"
   ],
   "metadata": {
    "collapsed": false,
    "pycharm": {
     "name": "#%% md\n"
    }
   }
  },
  {
   "cell_type": "code",
   "execution_count": 69,
   "outputs": [
    {
     "data": {
      "text/plain": "<Figure size 720x360 with 2 Axes>",
      "image/png": "[encoded data removed]"
     },
     "metadata": {
      "needs_background": "light"
     },
     "output_type": "display_data"
    }
   ],
   "source": [
    "from matplotlib import pyplot\n",
    "from numpy import random\n",
    "\n",
    "size = 100000\n",
    "number_of_bins = 100\n",
    "\n",
    "fig, axs = pyplot.subplots(1, 2, figsize=(10, 5), tight_layout=True)\n",
    "\n",
    "axs[0].hist(random.normal(size=size), density=True, bins=number_of_bins)\n",
    "axs[0].title.set_text('Metoda Gaussa')\n",
    "\n",
    "axs[1].hist(problem_A1(size), density=True, bins=number_of_bins)\n",
    "axs[1].title.set_text('Metoda Polarna')\n",
    "\n",
    "pyplot.show()"
   ],
   "metadata": {
    "collapsed": false,
    "pycharm": {
     "name": "#%%\n",
     "is_executing": false
    }
   }
  },
  {
   "cell_type": "markdown",
   "source": [
    "## c) Obliczyc eksperymentalne znaczenia dla wartosci sredniej oraz wariancji"
   ],
   "metadata": {
    "collapsed": false
   }
  },
  {
   "cell_type": "code",
   "execution_count": 70,
   "outputs": [
    {
     "name": "stdout",
     "text": [
      "Average value of Polar method equals: -0.0014271495891669003\n"
     ],
     "output_type": "stream"
    }
   ],
   "source": [
    "## nie jestem pewien ktora zmienna powinnismy przelicac tutaj\n",
    "\n",
    "size = 100000\n",
    "results = problem_A1(size)\n",
    "sumAll = 0\n",
    "for i in results[1]:\n",
    "    sumAll += i\n",
    "avg = sumAll/size\n",
    "print(f'Average value of Polar method equals: {avg}')"
   ],
   "metadata": {
    "collapsed": false,
    "pycharm": {
     "name": "#%%\n",
     "is_executing": false
    }
   }
  },
  {
   "cell_type": "markdown",
   "source": [
    "## Problem B i C\n",
    "### Ruina gracza dla 2 graczy A,B\n",
    "### Kapitaly poczatkowe A,B: \n",
    "### a = 50; b=50 \n",
    "### Porównanie z wynykiem analitycznym dla roznych a,b"
   ],
   "metadata": {
    "collapsed": false,
    "pycharm": {
     "name": "#%% md\n"
    }
   }
  },
  {
   "cell_type": "code",
   "execution_count": 71,
   "outputs": [
    {
     "name": "stdout",
     "text": [
      "A wygrywal z prawdopodobienstwem: 0.702\n",
      "B wygrywal z prawdopodobienstwem: 0.29800000000000004\n",
      "Wzor analityczny dla ruiny gracza a : 0.30000000000000004\n",
      "Wzor analityczny dla ruiny gracza b : 0.7\n"
     ],
     "output_type": "stream"
    }
   ],
   "source": [
    "import numpy\n",
    "\n",
    "n_simulations = 1000\n",
    "wins = 0\n",
    "\n",
    "prob_B_win = 0.5\n",
    "A_balance = 70\n",
    "B_balance = 30\n",
    "winsOfA = 0\n",
    "\n",
    "bet = 2\n",
    "\n",
    "for i in range(n_simulations):\n",
    "    A_current_balance = A_balance\n",
    "    B_current_balance = B_balance\n",
    "\n",
    "    while A_current_balance > 0 and B_current_balance > 0:\n",
    "        a_win = numpy.random.uniform(0, 1) < prob_B_win\n",
    "\n",
    "        if a_win:\n",
    "            winsOfA += 1\n",
    "            A_current_balance = A_current_balance + bet\n",
    "            B_current_balance = B_current_balance - bet\n",
    "        else:\n",
    "            A_current_balance = A_current_balance - bet\n",
    "            B_current_balance = B_current_balance + bet\n",
    "\n",
    "    if A_current_balance > 0: wins += 1 \n",
    "\n",
    "prob_a_wins = wins/n_simulations\n",
    "\n",
    "print(f'A wygrywal z prawdopodobienstwem: {prob_a_wins}')\n",
    "print(f'B wygrywal z prawdopodobienstwem: {1 - prob_a_wins}')\n",
    "\n",
    "ruinsA = 1 - (A_balance/(B_balance + A_balance))\n",
    "ruinsB = 1 - (B_balance/(B_balance + A_balance))\n",
    "print(f'Wzor analityczny dla ruiny gracza a : {ruinsA}')\n",
    "print(f'Wzor analityczny dla ruiny gracza b : {ruinsB}')"
   ],
   "metadata": {
    "collapsed": false,
    "pycharm": {
     "name": "#%% \n",
     "is_executing": false
    }
   }
  },
  {
   "cell_type": "markdown",
   "source": [
    "## Problem D\n",
    "### Liczba rozgrywek do ukonczenia gry - L\n",
    "### Wyliczyc srednia dlugosc rozgrywki\n",
    "### pA = 1/2, 1/5, 4/5; a = b = 50; calkowita liczba gier = 20000 "
   ],
   "metadata": {
    "collapsed": false
   }
  },
  {
   "cell_type": "code",
   "execution_count": 72,
   "outputs": [
    {
     "name": "stdout",
     "text": [
      "Average number of games 626.3314\n"
     ],
     "output_type": "stream"
    }
   ],
   "source": [
    "import numpy\n",
    "\n",
    "simulations = 20000\n",
    "\n",
    "prob_B_win = 0.5\n",
    "A_balance = 50\n",
    "B_balance = 50\n",
    "bet = 2\n",
    "number_of_games_in_single_party = []\n",
    "for i in range(simulations):\n",
    "    A_current_balance = A_balance\n",
    "    B_current_balance = B_balance\n",
    "    games = 0\n",
    "    while A_current_balance > 0 and B_current_balance > 0:\n",
    "        games += 1\n",
    "        a_win = numpy.random.uniform(0, 1) < prob_B_win\n",
    "\n",
    "        if a_win:\n",
    "            winsOfA += 1\n",
    "            A_current_balance = A_current_balance + bet\n",
    "            B_current_balance = B_current_balance - bet\n",
    "        else:\n",
    "            A_current_balance = A_current_balance - bet\n",
    "            B_current_balance = B_current_balance + bet\n",
    "    number_of_games_in_single_party.append(games)\n",
    "print(f'Average number of games {sum(number_of_games_in_single_party)/simulations}')\n"
   ],
   "metadata": {
    "collapsed": false,
    "pycharm": {
     "name": "#%% \n",
     "is_executing": false
    }
   }
  },
  {
   "cell_type": "markdown",
   "source": [
    "## Problem G\n",
    "### Trajektoria liczby wygranych dla 1 z 2 graczy\n",
    "### dla kilku gier(do 10) dla róznych wartosci \n",
    "### pA: 1/2, 1/5, 4/5 \n",
    "### Trajektoria kapitalu dla 1 z 2 graczy"
   ],
   "metadata": {
    "collapsed": false
   }
  },
  {
   "cell_type": "code",
   "execution_count": 80,
   "outputs": [
    {
     "data": {
      "text/plain": "<Figure size 720x360 with 3 Axes>",
      "image/png": "[encoded data removed]"
     },
     "metadata": {
      "needs_background": "light"
     },
     "output_type": "display_data"
    }
   ],
   "source": [
    "import numpy\n",
    "import matplotlib.pyplot as plt\n",
    "\n",
    "def simulation(prob):\n",
    "    simulations = 20\n",
    "\n",
    "    wins_overall = 0\n",
    "\n",
    "    A_balance = 50\n",
    "    B_balance = 50\n",
    "    bet = 2\n",
    "    number_of_games_won = []\n",
    "\n",
    "    for i in range(simulations):\n",
    "        a_win = numpy.random.uniform(0, 1) < prob\n",
    "\n",
    "        if a_win:\n",
    "            wins_overall += 1\n",
    "            number_of_games_won.append(wins_overall)\n",
    "            A_balance = A_balance + bet\n",
    "            B_balance = B_balance - bet\n",
    "        else:\n",
    "            number_of_games_won.append(wins_overall)\n",
    "            A_balance = A_balance - bet\n",
    "            B_balance = B_balance + bet\n",
    "    return number_of_games_won\n",
    "        \n",
    "fig, axs = pyplot.subplots(1, 3, figsize=(10, 5), tight_layout=True)\n",
    "axs[0].plot(simulation(0.5))\n",
    "axs[0].title.set_text('Probability 1/2')\n",
    "axs[0].set_xlim([0, simulations])\n",
    "axs[0].set_ylim([0, simulations])\n",
    "\n",
    "axs[1].plot(simulation(0.2))\n",
    "axs[1].title.set_text('Probability 1/5')  \n",
    "axs[1].set_xlim([0, simulations])\n",
    "axs[1].set_ylim([0, simulations])\n",
    "\n",
    "axs[2].plot(simulation(0.8))\n",
    "axs[2].title.set_text('Probability 4/5')\n",
    "axs[2].set_xlim([0, simulations])\n",
    "axs[2].set_ylim([0, simulations])\n",
    "\n",
    "# plt.plot(win_per_round)\n",
    "# plt.xlim(0,simulations)\n",
    "# plt.ylim(0,simulations)\n",
    "# plt.ylabel('Wins')\n",
    "# plt.xlabel('Number of party')\n",
    "plt.show()"
   ],
   "metadata": {
    "collapsed": false,
    "pycharm": {
     "name": "#%% \n",
     "is_executing": false
    }
   }
  }
 ],
 "metadata": {
  "kernelspec": {
   "display_name": "Python 3",
   "language": "python",
   "name": "python3"
  },
  "language_info": {
   "codemirror_mode": {
    "name": "ipython",
    "version": 2
   },
   "file_extension": ".py",
   "mimetype": "text/x-python",
   "name": "python",
   "nbconvert_exporter": "python",
   "pygments_lexer": "ipython2",
   "version": "2.7.6"
  },
  "pycharm": {
   "stem_cell": {
    "cell_type": "raw",
    "source": [],
    "metadata": {
     "collapsed": false
    }
   }
  }
 },
 "nbformat": 4,
 "nbformat_minor": 0
}